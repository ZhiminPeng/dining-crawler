{
 "metadata": {
  "name": "",
  "signature": "sha256:6b084f4b5be2186783fb8fb4bffe37aad7b6ceeffdf8b6b151dfc51b2739f024"
 },
 "nbformat": 3,
 "nbformat_minor": 0,
 "worksheets": [
  {
   "cells": [
    {
     "cell_type": "code",
     "collapsed": false,
     "input": [
      "import smtplib\n",
      "fromaddr = 'zhiminp@gmail.com'\n",
      "toaddrs  = 'peng.zhimin@math.ucla.edu'\n",
      "msg = 'Why,Oh why!'\n",
      "username = 'zhiminp@gmail.com'\n",
      "password = 'freebird.1'\n",
      "server = smtplib.SMTP('smtp.gmail.com:587')\n",
      "server.ehlo()\n",
      "server.starttls()\n",
      "server.login(username,password)\n",
      "server.sendmail(fromaddr, toaddrs, msg)\n",
      "server.quit()\n"
     ],
     "language": "python",
     "metadata": {},
     "outputs": [
      {
       "ename": "SMTPAuthenticationError",
       "evalue": "(534, '5.7.14 <https://accounts.google.com/ContinueSignIn?sarp=1&scc=1&plt=AKgnsbtEC\\n5.7.14 pWTg2z3vGcB_dNQSzlARxP0hH7UvxqNwoazIT_dN0g35G4arKUvop041_q0SmoGEblemeT\\n5.7.14 lmLSNtQP00xSJL5wkFMC-eakrccYQBoGmW92j0yUYWRrF7pPBAN-fZmjhxDCPj9642zBTm\\n5.7.14 V9yC9db4jin-uzNzIIXHOpR36AUn5ri4GBiXDNOQ7Uzt3snR9SxLrHwP1ZXFEBD7czEmoL\\n5.7.14 -xdXewfMPvgrscHkgh5gtm7osaKM> Please log in via your web browser and\\n5.7.14 then try again.\\n5.7.14 Learn more at\\n5.7.14 https://support.google.com/mail/bin/answer.py?answer=78754 ae9sm12045531pac.25 - gsmtp')",
       "output_type": "pyerr",
       "traceback": [
        "\u001b[0;31m---------------------------------------------------------------------------\u001b[0m\n\u001b[0;31mSMTPAuthenticationError\u001b[0m                   Traceback (most recent call last)",
        "\u001b[0;32m<ipython-input-8-7eb084235619>\u001b[0m in \u001b[0;36m<module>\u001b[0;34m()\u001b[0m\n\u001b[1;32m      9\u001b[0m \u001b[0mserver\u001b[0m\u001b[0;34m.\u001b[0m\u001b[0mstarttls\u001b[0m\u001b[0;34m(\u001b[0m\u001b[0;34m)\u001b[0m\u001b[0;34m\u001b[0m\u001b[0m\n\u001b[1;32m     10\u001b[0m \u001b[0;34m\u001b[0m\u001b[0m\n\u001b[0;32m---> 11\u001b[0;31m \u001b[0mserver\u001b[0m\u001b[0;34m.\u001b[0m\u001b[0mlogin\u001b[0m\u001b[0;34m(\u001b[0m\u001b[0;34m\"zhiminp\"\u001b[0m\u001b[0;34m,\u001b[0m \u001b[0;34m\"freebird.1\"\u001b[0m\u001b[0;34m)\u001b[0m\u001b[0;34m\u001b[0m\u001b[0m\n\u001b[0m\u001b[1;32m     12\u001b[0m \u001b[0;34m\u001b[0m\u001b[0m\n\u001b[1;32m     13\u001b[0m \u001b[0;31m#Send the mail\u001b[0m\u001b[0;34m\u001b[0m\u001b[0;34m\u001b[0m\u001b[0m\n",
        "\u001b[0;32m/System/Library/Frameworks/Python.framework/Versions/2.7/lib/python2.7/smtplib.pyc\u001b[0m in \u001b[0;36mlogin\u001b[0;34m(self, user, password)\u001b[0m\n\u001b[1;32m    612\u001b[0m             \u001b[0;31m# 235 == 'Authentication successful'\u001b[0m\u001b[0;34m\u001b[0m\u001b[0;34m\u001b[0m\u001b[0m\n\u001b[1;32m    613\u001b[0m             \u001b[0;31m# 503 == 'Error: already authenticated'\u001b[0m\u001b[0;34m\u001b[0m\u001b[0;34m\u001b[0m\u001b[0m\n\u001b[0;32m--> 614\u001b[0;31m             \u001b[0;32mraise\u001b[0m \u001b[0mSMTPAuthenticationError\u001b[0m\u001b[0;34m(\u001b[0m\u001b[0mcode\u001b[0m\u001b[0;34m,\u001b[0m \u001b[0mresp\u001b[0m\u001b[0;34m)\u001b[0m\u001b[0;34m\u001b[0m\u001b[0m\n\u001b[0m\u001b[1;32m    615\u001b[0m         \u001b[0;32mreturn\u001b[0m \u001b[0;34m(\u001b[0m\u001b[0mcode\u001b[0m\u001b[0;34m,\u001b[0m \u001b[0mresp\u001b[0m\u001b[0;34m)\u001b[0m\u001b[0;34m\u001b[0m\u001b[0m\n\u001b[1;32m    616\u001b[0m \u001b[0;34m\u001b[0m\u001b[0m\n",
        "\u001b[0;31mSMTPAuthenticationError\u001b[0m: (534, '5.7.14 <https://accounts.google.com/ContinueSignIn?sarp=1&scc=1&plt=AKgnsbtEC\\n5.7.14 pWTg2z3vGcB_dNQSzlARxP0hH7UvxqNwoazIT_dN0g35G4arKUvop041_q0SmoGEblemeT\\n5.7.14 lmLSNtQP00xSJL5wkFMC-eakrccYQBoGmW92j0yUYWRrF7pPBAN-fZmjhxDCPj9642zBTm\\n5.7.14 V9yC9db4jin-uzNzIIXHOpR36AUn5ri4GBiXDNOQ7Uzt3snR9SxLrHwP1ZXFEBD7czEmoL\\n5.7.14 -xdXewfMPvgrscHkgh5gtm7osaKM> Please log in via your web browser and\\n5.7.14 then try again.\\n5.7.14 Learn more at\\n5.7.14 https://support.google.com/mail/bin/answer.py?answer=78754 ae9sm12045531pac.25 - gsmtp')"
       ]
      }
     ],
     "prompt_number": 8
    },
    {
     "cell_type": "code",
     "collapsed": false,
     "input": [
      "?MIMEText"
     ],
     "language": "python",
     "metadata": {},
     "outputs": [],
     "prompt_number": 4
    },
    {
     "cell_type": "code",
     "collapsed": false,
     "input": [],
     "language": "python",
     "metadata": {},
     "outputs": []
    }
   ],
   "metadata": {}
  }
 ]
}